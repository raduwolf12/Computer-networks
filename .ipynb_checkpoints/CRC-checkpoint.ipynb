{
 "cells": [
  {
   "cell_type": "markdown",
   "metadata": {},
   "source": [
    "## CRC\n",
    "Autor: Taraburca Radu"
   ]
  },
  {
   "cell_type": "code",
   "execution_count": 1,
   "metadata": {},
   "outputs": [],
   "source": [
    "def funtie(nr, nr2, n):\n",
    "    aux=nr[0:n]\n",
    "    aux = int(aux,2)\n",
    "    nr2aux = int(nr2,2)\n",
    "    a=str(bin(aux ^ nr2aux))\n",
    "    a=a[2:]\n",
    "    return a"
   ]
  },
  {
   "cell_type": "code",
   "execution_count": 2,
   "metadata": {},
   "outputs": [
    {
     "name": "stdout",
     "output_type": "stream",
     "text": [
      "Mx value: 11\n",
      "Cx value: 101\n",
      "110\n",
      "11\n",
      "1111\n",
      "Corect\n"
     ]
    }
   ],
   "source": [
    "# Mx=\"101100101\"\n",
    "# Cx=\"1101\"\n",
    "Mx =input(\"Mx value: \")\n",
    "Cx=input(\"Cx value: \")\n",
    "\n",
    "Mx = int(Mx)\n",
    "gradCx = len(Cx)-1\n",
    "for i in range(0,gradCx):\n",
    "    Mx=Mx*10\n",
    "Mx=str(Mx)\n",
    "MxP=Mx\n",
    "while len(Mx)>=gradCx+1:\n",
    "    a=funtie(Mx,Cx,gradCx+1)\n",
    "    Mx=a+Mx[gradCx+1:]\n",
    "    print(Mx)\n",
    "    \n",
    "    \n",
    "# MxP=MxP+Mx\n",
    "last = len(MxP)-len(Mx)\n",
    "lastMxP= MxP[last:]\n",
    "b=funtie(lastMxP,Mx,last)\n",
    "MxP= MxP[:last]+b\n",
    "print(MxP)\n",
    "# MxP=int(MxP,2)\n",
    "# Mx=int(Mx,2)\n",
    "# Rx= MxP/Mx\n",
    "# Rx\n",
    "while len(MxP)>=gradCx+1:\n",
    "    a=funtie(MxP,Cx,gradCx+1)\n",
    "    MxP=a+MxP[gradCx+1:]\n",
    "\n",
    "if(MxP=='0'):\n",
    "    print(\"Corect\")\n",
    "else:    \n",
    "    print(\"Incorect\")\n",
    "\n",
    "        \n",
    "\n"
   ]
  }
 ],
 "metadata": {
  "kernelspec": {
   "display_name": "Python 3",
   "language": "python",
   "name": "python3"
  },
  "language_info": {
   "codemirror_mode": {
    "name": "ipython",
    "version": 3
   },
   "file_extension": ".py",
   "mimetype": "text/x-python",
   "name": "python",
   "nbconvert_exporter": "python",
   "pygments_lexer": "ipython3",
   "version": "3.7.4"
  }
 },
 "nbformat": 4,
 "nbformat_minor": 2
}
