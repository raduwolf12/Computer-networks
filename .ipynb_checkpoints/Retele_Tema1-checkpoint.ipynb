{
 "cells": [
  {
   "cell_type": "code",
   "execution_count": 2,
   "metadata": {
    "ExecuteTime": {
     "start_time": "2020-02-26T13:35:54.957Z"
    },
    "scrolled": true
   },
   "outputs": [
    {
     "name": "stdout",
     "output_type": "stream",
     "text": [
      "Mx value: 101100101000\n",
      "Cx value: 1101\n",
      "1011\n",
      "1011\n",
      "13\n"
     ]
    },
    {
     "data": {
      "text/plain": [
       "'0b1111111110'"
      ]
     },
     "execution_count": 2,
     "metadata": {},
     "output_type": "execute_result"
    }
   ],
   "source": [
    "Mx =input(\"Mx value: \")\n",
    "Cx=input(\"Cx value: \")\n",
    "gradCx = len(Cx)-1\n",
    "auxMx=int(Mx[0:4])\n",
    "print(auxMx)\n",
    "Mx=int(Mx,2)\n",
    "Cx=int(Cx,2)\n",
    "for i in range(gradCx):\n",
    "    Mx*=10;\n",
    "print(auxMx)\n",
    "print(Cx)\n",
    "bin(auxMx^Cx)"
   ]
  },
  {
   "cell_type": "code",
   "execution_count": 29,
   "metadata": {
    "ExecuteTime": {
     "end_time": "2020-02-26T13:49:47.821528Z",
     "start_time": "2020-02-26T13:49:47.818536Z"
    }
   },
   "outputs": [],
   "source": [
    "\n",
    "from operator import xor "
   ]
  },
  {
   "cell_type": "code",
   "execution_count": 10,
   "metadata": {
    "ExecuteTime": {
     "end_time": "2020-02-26T13:42:37.945537Z",
     "start_time": "2020-02-26T13:42:37.940585Z"
    }
   },
   "outputs": [
    {
     "name": "stdout",
     "output_type": "stream",
     "text": [
      "b'\\x00\\x00\\x00\\x00\\x00'\n"
     ]
    }
   ],
   "source": [
    "size = 5\n",
    "arr = bytes(size)\n",
    "print(arr)"
   ]
  },
  {
   "cell_type": "code",
   "execution_count": 27,
   "metadata": {
    "ExecuteTime": {
     "end_time": "2020-02-26T13:48:44.791811Z",
     "start_time": "2020-02-26T13:48:41.059069Z"
    }
   },
   "outputs": [
    {
     "name": "stdout",
     "output_type": "stream",
     "text": [
      "Enter string one:11\n",
      "Enter string two:10\n",
      "1\n",
      "ok\n"
     ]
    }
   ],
   "source": [
    "str1 = input(\"Enter string one:\")\n",
    "str2 = input(\"Enter string two:\")\n",
    "print (xor(int(str1), int(str2)))\n",
    "if xor(int(str1), int(str2)):\n",
    "    print (\"ok\")\n",
    "else:\n",
    "    print (\"bad\")"
   ]
  },
  {
   "cell_type": "code",
   "execution_count": 28,
   "metadata": {
    "ExecuteTime": {
     "end_time": "2020-02-26T13:49:06.770235Z",
     "start_time": "2020-02-26T13:49:06.761225Z"
    }
   },
   "outputs": [
    {
     "data": {
      "text/plain": [
       "'11'"
      ]
     },
     "execution_count": 28,
     "metadata": {},
     "output_type": "execute_result"
    }
   ],
   "source": [
    "str1"
   ]
  },
  {
   "cell_type": "code",
   "execution_count": 6,
   "metadata": {},
   "outputs": [
    {
     "name": "stdout",
     "output_type": "stream",
     "text": [
      "0\n"
     ]
    }
   ],
   "source": [
    "print (int('010', 2)%int('010', 2))"
   ]
  },
  {
   "cell_type": "code",
   "execution_count": 47,
   "metadata": {},
   "outputs": [
    {
     "name": "stdout",
     "output_type": "stream",
     "text": [
      "0b100011\n",
      "0b101101\n",
      "0b1110\n"
     ]
    }
   ],
   "source": [
    "inputA = int('00100011',2) \n",
    "inputB = int('00101101',2) \n",
    "\n",
    "print (bin(inputA))            \n",
    "print (bin(inputB))           \n",
    "print (bin(inputA ^ inputB))   "
   ]
  },
  {
   "cell_type": "code",
   "execution_count": 21,
   "metadata": {
    "scrolled": false
   },
   "outputs": [
    {
     "name": "stdout",
     "output_type": "stream",
     "text": [
      "Cx value: s\n"
     ]
    },
    {
     "ename": "TypeError",
     "evalue": "'int' object is not subscriptable",
     "output_type": "error",
     "traceback": [
      "\u001b[1;31m---------------------------------------------------------------------------\u001b[0m",
      "\u001b[1;31mTypeError\u001b[0m                                 Traceback (most recent call last)",
      "\u001b[1;32m<ipython-input-21-835530650b1f>\u001b[0m in \u001b[0;36m<module>\u001b[1;34m\u001b[0m\n\u001b[0;32m      2\u001b[0m \u001b[0mCx\u001b[0m\u001b[1;33m=\u001b[0m\u001b[0minput\u001b[0m\u001b[1;33m(\u001b[0m\u001b[1;34m\"Cx value: \"\u001b[0m\u001b[1;33m)\u001b[0m\u001b[1;33m\u001b[0m\u001b[1;33m\u001b[0m\u001b[0m\n\u001b[0;32m      3\u001b[0m \u001b[0mgradCx\u001b[0m \u001b[1;33m=\u001b[0m \u001b[0mlen\u001b[0m\u001b[1;33m(\u001b[0m\u001b[0mCx\u001b[0m\u001b[1;33m)\u001b[0m\u001b[1;33m-\u001b[0m\u001b[1;36m1\u001b[0m\u001b[1;33m\u001b[0m\u001b[1;33m\u001b[0m\u001b[0m\n\u001b[1;32m----> 4\u001b[1;33m \u001b[0mauxMx\u001b[0m\u001b[1;33m=\u001b[0m\u001b[0mint\u001b[0m\u001b[1;33m(\u001b[0m\u001b[0mMx\u001b[0m\u001b[1;33m[\u001b[0m\u001b[1;36m0\u001b[0m\u001b[1;33m:\u001b[0m\u001b[1;36m4\u001b[0m\u001b[1;33m]\u001b[0m\u001b[1;33m,\u001b[0m\u001b[1;36m2\u001b[0m\u001b[1;33m)\u001b[0m\u001b[1;33m\u001b[0m\u001b[1;33m\u001b[0m\u001b[0m\n\u001b[0m\u001b[0;32m      5\u001b[0m \u001b[1;31m# print(auxMx)\u001b[0m\u001b[1;33m\u001b[0m\u001b[1;33m\u001b[0m\u001b[1;33m\u001b[0m\u001b[0m\n\u001b[0;32m      6\u001b[0m \u001b[0mMx\u001b[0m\u001b[1;33m=\u001b[0m\u001b[0mint\u001b[0m\u001b[1;33m(\u001b[0m\u001b[0mMx\u001b[0m\u001b[1;33m)\u001b[0m\u001b[1;33m\u001b[0m\u001b[1;33m\u001b[0m\u001b[0m\n",
      "\u001b[1;31mTypeError\u001b[0m: 'int' object is not subscriptable"
     ]
    }
   ],
   "source": [
    "# Mx =input(\"Mx value: \")\n",
    "Cx=input(\"Cx value: \")\n",
    "gradCx = len(Cx)-1\n",
    "auxMx=int(Mx[0:4],2)\n",
    "# print(auxMx)\n",
    "Mx=int(Mx)\n",
    "Cx=int(Cx,2)\n",
    "for i in range(gradCx):\n",
    "    Mx*=10;\n",
    "MxString=str(Mx) \n",
    "print(MxString)\n",
    "print(Cx)\n",
    "rest=bin(auxMx^Cx)\n",
    "print(rest)\n",
    "# while len(MxString)>gradCx+1:\n",
    "#     auxMx=int(MxString[0:4],2)\n"
   ]
  },
  {
   "cell_type": "code",
   "execution_count": null,
   "metadata": {},
   "outputs": [],
   "source": [
    "# Cod Corect "
   ]
  },
  {
   "cell_type": "code",
   "execution_count": 42,
   "metadata": {},
   "outputs": [],
   "source": [
    "def funtie(nr, nr2, n):\n",
    "    aux=nr[0:n]\n",
    "    aux = int(aux,2)\n",
    "    nr2aux = int(nr2,2)\n",
    "    a=str(bin(aux ^ nr2aux))\n",
    "    a=a[2:]\n",
    "    return a\n",
    "     "
   ]
  },
  {
   "cell_type": "code",
   "execution_count": 43,
   "metadata": {},
   "outputs": [
    {
     "name": "stdout",
     "output_type": "stream",
     "text": [
      "Corect\n"
     ]
    }
   ],
   "source": [
    "# Mx=\"101100101\"\n",
    "# Cx=\"1101\"\n",
    "Mx =input(\"Mx value: \")\n",
    "Cx=input(\"Cx value: \")\n",
    "\n",
    "Mx = int(Mx)\n",
    "gradCx = len(Cx)-1\n",
    "for i in range(0,gradCx):\n",
    "    Mx=Mx*10\n",
    "Mx=str(Mx)\n",
    "MxP=Mx\n",
    "while len(Mx)>=gradCx+1:\n",
    "    a=funtie(Mx,Cx,gradCx+1)\n",
    "    Mx=a+Mx[gradCx+1:]\n",
    "#     print(Mx)\n",
    "    \n",
    "    \n",
    "# MxP=MxP+Mx\n",
    "last = len(MxP)-len(Mx)\n",
    "lastMxP= MxP[last:]\n",
    "b=funtie(lastMxP,Mx,last)\n",
    "MxP= MxP[:last]+b\n",
    "# print(MxP)\n",
    "# MxP=int(MxP,2)\n",
    "# Mx=int(Mx,2)\n",
    "# Rx= MxP/Mx\n",
    "# Rx\n",
    "while len(MxP)>=gradCx+1:\n",
    "    a=funtie(MxP,Cx,gradCx+1)\n",
    "    MxP=a+MxP[gradCx+1:]\n",
    "\n",
    "if(MxP=='0'):\n",
    "    print(\"Corect\")\n",
    "else:    \n",
    "    print(\"Incorect\")\n",
    "\n",
    "        \n",
    "\n"
   ]
  },
  {
   "cell_type": "code",
   "execution_count": 26,
   "metadata": {},
   "outputs": [
    {
     "data": {
      "text/plain": [
       "'as3'"
      ]
     },
     "execution_count": 26,
     "metadata": {},
     "output_type": "execute_result"
    }
   ],
   "source": [
    "a=\"123\"\n",
    "b=\"as\"\n",
    "a=b+a[2]\n",
    "a"
   ]
  },
  {
   "cell_type": "code",
   "execution_count": 55,
   "metadata": {},
   "outputs": [
    {
     "data": {
      "text/plain": [
       "'0b10'"
      ]
     },
     "execution_count": 55,
     "metadata": {},
     "output_type": "execute_result"
    }
   ],
   "source": [
    "aux=int(\"11\",2)\n",
    "nr2aux=int(\"01\",2)\n",
    "bin(aux - nr2aux)"
   ]
  },
  {
   "cell_type": "code",
   "execution_count": null,
   "metadata": {},
   "outputs": [],
   "source": []
  }
 ],
 "metadata": {
  "kernelspec": {
   "display_name": "Python 3",
   "language": "python",
   "name": "python3"
  },
  "language_info": {
   "codemirror_mode": {
    "name": "ipython",
    "version": 3
   },
   "file_extension": ".py",
   "mimetype": "text/x-python",
   "name": "python",
   "nbconvert_exporter": "python",
   "pygments_lexer": "ipython3",
   "version": "3.7.4"
  }
 },
 "nbformat": 4,
 "nbformat_minor": 4
}
